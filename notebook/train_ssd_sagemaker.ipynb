{
 "cells": [
  {
   "cell_type": "code",
   "execution_count": null,
   "metadata": {},
   "outputs": [],
   "source": [
    "# We need SageMaker SDK >1.50.12 for imx8qm DLR (https://github.com/aws/sagemaker-python-sdk/blob/master/CHANGELOG.md#v15012-2020-02-17)\n",
    "!pip install --upgrade sagemaker --quiet"
   ]
  },
  {
   "cell_type": "code",
   "execution_count": null,
   "metadata": {},
   "outputs": [],
   "source": [
    "import sagemaker\n",
    "\n",
    "session = sagemaker.session.Session()\n",
    "default_s3_bucket = 's3://{}'.format(session.default_bucket())\n",
    "print('default_s3_bucket: {}'.format(default_s3_bucket))"
   ]
  },
  {
   "cell_type": "code",
   "execution_count": null,
   "metadata": {},
   "outputs": [],
   "source": [
    "role = sagemaker.get_execution_role()\n",
    "print(\"Using IAM role arn: {}\".format(role))\n",
    "\n",
    "# create a descriptive job name \n",
    "job_name_prefix = 'pasta-ssd-voc'\n",
    "print(\"job_name_prefix: {}\".format(job_name_prefix))\n",
    "\n",
    "s3_output_path = '{}/{}/output'.format(default_s3_bucket,job_name_prefix)\n",
    "print(\"S3 model output path: {}\".format(s3_output_path))\n",
    "\n",
    "training_images = session.upload_data('./VOC2019', key_prefix='{}/dataset/VOC2019'.format(job_name_prefix))\n",
    "print(\"Training images S3 Uri: {}\".format(training_images))"
   ]
  },
  {
   "cell_type": "code",
   "execution_count": null,
   "metadata": {},
   "outputs": [],
   "source": [
    "training_images = session.upload_data('./dataset', key_prefix='{}/dataset'.format(job_name_prefix))\n",
    "print(\"Training images S3 Uri: {}\".format(training_images))"
   ]
  },
  {
   "cell_type": "code",
   "execution_count": null,
   "metadata": {},
   "outputs": [],
   "source": [
    "static_hyperparameters = {\n",
    "    'epochs': 2,\n",
    "    'num-workers': 12,\n",
    "    'batch-size': 10,\n",
    "    'network': 'mobilenet1.0',\n",
    "    'data-shape': 512\n",
    "}\n",
    "print(\"static_hyperparameters: {}\".format(static_hyperparameters))\n",
    "\n",
    "instance_type = \"ml.p3.2xlarge\""
   ]
  },
  {
   "cell_type": "code",
   "execution_count": null,
   "metadata": {},
   "outputs": [],
   "source": [
    "from sagemaker.mxnet.estimator import MXNet\n",
    "estimator = MXNet(entry_point=\"train_ssd_denis.py\",\n",
    "                  role=role,\n",
    "                  train_instance_type=instance_type,\n",
    "                  train_instance_count=1,\n",
    "                  output_path=s3_output_path,\n",
    "                  framework_version=\"1.4.1\",\n",
    "                  py_version='py3',\n",
    "                  base_job_name=job_name_prefix,\n",
    "                  hyperparameters=static_hyperparameters\n",
    "                 )"
   ]
  },
  {
   "cell_type": "code",
   "execution_count": null,
   "metadata": {},
   "outputs": [],
   "source": [
    "estimator.fit({\n",
    "    \"train\": training_images\n",
    "})"
   ]
  },
  {
   "cell_type": "code",
   "execution_count": null,
   "metadata": {},
   "outputs": [],
   "source": [
    "compiled_output_path = '{}/{}/output'.format(default_s3_bucket,job_name_prefix)\n",
    "\n",
    "optimized_ic = estimator.compile_model(\n",
    "    target_instance_family='imx8qm', \n",
    "    input_shape={'data':[1, 3, 224, 224]},  # Batch size 1, 3 channels, 224x224 Images.\n",
    "    output_path=compiled_output_path,\n",
    "    role=role,\n",
    "    framework='mxnet', framework_version='1.2.1')"
   ]
  },
  {
   "cell_type": "code",
   "execution_count": null,
   "metadata": {},
   "outputs": [],
   "source": []
  }
 ],
 "metadata": {
  "kernelspec": {
   "display_name": "conda_mxnet_p36",
   "language": "python",
   "name": "conda_mxnet_p36"
  },
  "language_info": {
   "codemirror_mode": {
    "name": "ipython",
    "version": 3
   },
   "file_extension": ".py",
   "mimetype": "text/x-python",
   "name": "python",
   "nbconvert_exporter": "python",
   "pygments_lexer": "ipython3",
   "version": "3.6.5"
  }
 },
 "nbformat": 4,
 "nbformat_minor": 4
}