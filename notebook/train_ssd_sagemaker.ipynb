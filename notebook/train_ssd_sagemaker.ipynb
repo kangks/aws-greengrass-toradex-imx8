{
 "cells": [
  {
   "cell_type": "code",
   "execution_count": null,
   "metadata": {},
   "outputs": [],
   "source": [
    "import os\n",
    "import glob\n",
    "import math\n",
    "import matplotlib.pyplot as plt\n",
    "import numpy as np\n",
    "import random\n",
    "import cv2\n",
    "from lxml import etree\n",
    "from datetime import datetime\n"
   ]
  },
  {
   "cell_type": "code",
   "execution_count": null,
   "metadata": {},
   "outputs": [],
   "source": [
    "# We need SageMaker SDK >1.50.12 for imx8qm DLR (https://github.com/aws/sagemaker-python-sdk/blob/master/CHANGELOG.md#v15012-2020-02-17)\n",
    "!pip install --upgrade sagemaker --quiet\n",
    "from sagemaker.mxnet.estimator import MXNet\n",
    "import sagemaker"
   ]
  },
  {
   "cell_type": "markdown",
   "metadata": {},
   "source": [
    "## Visualize the images"
   ]
  },
  {
   "cell_type": "code",
   "execution_count": null,
   "metadata": {},
   "outputs": [],
   "source": [
    "data_dir = './dataset'\n",
    "images_dir = os.path.join(data_dir,'VOC2019','JPEGImages')\n",
    "train_images = glob.glob(images_dir + \"/*\")"
   ]
  },
  {
   "cell_type": "code",
   "execution_count": null,
   "metadata": {},
   "outputs": [],
   "source": [
    "print(\"We have {} images\".format(len(train_images)))"
   ]
  },
  {
   "cell_type": "markdown",
   "metadata": {},
   "source": [
    "Let's see how they look like. We use matplotlib to plot 9 images from the dataset to get a feel for what they are"
   ]
  },
  {
   "cell_type": "code",
   "execution_count": null,
   "metadata": {},
   "outputs": [],
   "source": [
    "n_images = 9\n",
    "cols = (int(math.sqrt(n_images)))\n",
    "fig = plt.figure(figsize=(15,10))\n",
    "for n, (image) in enumerate(train_images[:n_images]):\n",
    "    image = plt.imread(image)\n",
    "    a = fig.add_subplot(np.ceil(n_images/float(cols)), cols, n + 1)\n",
    "    plt.imshow(image)\n",
    "    plt.axis('off')\n",
    "plt.subplots_adjust(wspace=0.06, hspace=0.06)\n",
    "plt.show()"
   ]
  },
  {
   "cell_type": "code",
   "execution_count": null,
   "metadata": {},
   "outputs": [],
   "source": [
    "n_images = 4\n",
    "cols = (int(math.sqrt(n_images)))\n",
    "fig = plt.figure(figsize=(15,10))\n",
    "for i in range(n_images):\n",
    "    random_image = train_images[random.randint(0, len(train_images)-1)]\n",
    "    filename = os.path.basename(random_image).split('.')[0]\n",
    "    annotation_file = \"{}/VOC2019/Annotations/{}.xml\".format(data_dir,filename)\n",
    "    image = plt.imread(random_image)\n",
    "    tree = etree.parse(annotation_file)\n",
    "    for e in range(len(tree.xpath('/annotation/object'))):\n",
    "        name = tree.xpath('/annotation/object/name')[e].text\n",
    "        xmin = tree.xpath('/annotation/object/bndbox/xmin')[e].text\n",
    "        ymin = tree.xpath('/annotation/object/bndbox/ymin')[e].text\n",
    "        xmax = tree.xpath('/annotation/object/bndbox/xmax')[e].text\n",
    "        ymax = tree.xpath('/annotation/object/bndbox/ymax')[e].text\n",
    "        cv2.rectangle(image, (int(float(xmin)), int(float(ymin))), (int(float(xmax)), int(float(ymax))), (0,255,0), 3)\n",
    "        cv2.putText(image, str(name), (int(float(xmax)), int(float(ymax))), 1, 3, (255,0,0), 3)\n",
    "        \n",
    "    a = fig.add_subplot(np.ceil(n_images/float(cols)), cols, i + 1)\n",
    "    plt.imshow(image)\n",
    "    plt.axis('off')    \n",
    "plt.subplots_adjust(wspace=0.06, hspace=0.06)\n",
    "plt.show()    "
   ]
  },
  {
   "cell_type": "markdown",
   "metadata": {},
   "source": [
    "## First run of estimator with small epochs"
   ]
  },
  {
   "cell_type": "code",
   "execution_count": null,
   "metadata": {},
   "outputs": [],
   "source": [
    "session = sagemaker.session.Session()\n",
    "default_s3_bucket = 's3://{}'.format(session.default_bucket())\n",
    "print('default_s3_bucket: {}'.format(default_s3_bucket))"
   ]
  },
  {
   "cell_type": "code",
   "execution_count": null,
   "metadata": {},
   "outputs": [],
   "source": [
    "role = sagemaker.get_execution_role()\n",
    "print(\"Using IAM role arn: {}\".format(role))\n",
    "\n",
    "# create a descriptive job name \n",
    "job_name_prefix = 'pasta-ssd-voc'\n",
    "print(\"job_name_prefix: {}\".format(job_name_prefix))\n",
    "\n",
    "s3_output_path = '{}/{}/output'.format(default_s3_bucket,job_name_prefix)\n",
    "print(\"S3 model output path: {}\".format(s3_output_path))\n",
    "\n",
    "training_images = session.upload_data('data_dir', key_prefix='{}/dataset'.format(job_name_prefix))\n",
    "print(\"Training images S3 Uri: {}\".format(training_images))"
   ]
  },
  {
   "cell_type": "code",
   "execution_count": null,
   "metadata": {},
   "outputs": [],
   "source": [
    "static_hyperparameters = {\n",
    "    'epochs': 2,\n",
    "    'num-workers': 12,\n",
    "    'network': 'mobilenet1.0',\n",
    "    'data-shape': 512\n",
    "}\n",
    "print(\"static_hyperparameters: {}\".format(static_hyperparameters))\n"
   ]
  },
  {
   "cell_type": "code",
   "execution_count": null,
   "metadata": {},
   "outputs": [],
   "source": [
    "instance_type = \"ml.p3.2xlarge\"\n",
    "estimator = MXNet(entry_point=\"train_ssd.py\",\n",
    "                  role=role,\n",
    "                  train_instance_type=instance_type,\n",
    "                  train_instance_count=1,\n",
    "                  output_path=s3_output_path,\n",
    "                  framework_version=\"1.4.1\",\n",
    "                  py_version='py3',\n",
    "                  base_job_name=job_name_prefix,\n",
    "                  hyperparameters=static_hyperparameters\n",
    "                 )"
   ]
  },
  {
   "cell_type": "code",
   "execution_count": null,
   "metadata": {},
   "outputs": [],
   "source": [
    "estimator.fit({\n",
    "    \"train\": training_images\n",
    "})"
   ]
  },
  {
   "cell_type": "markdown",
   "metadata": {},
   "source": [
    "### Hyperparameter Tuner job"
   ]
  },
  {
   "cell_type": "code",
   "execution_count": null,
   "metadata": {},
   "outputs": [],
   "source": [
    "static_hyperparameters = {\n",
    "    'epochs': 50,\n",
    "    'num-workers': 12,\n",
    "    'network': 'mobilenet1.0', # this will be configured in the HPO\n",
    "    'data-shape': 512\n",
    "}\n",
    "print(\"static_hyperparameters: {}\".format(static_hyperparameters))\n",
    "\n",
    "metric_definitions = [\n",
    "    {'Name': 'validation_mAP', 'Regex': 'best mAP ([-+]?[0-9]*[.]?[0-9]+([eE][-+]?[0-9]+)?)'},\n",
    "    {'Name': 'run_validation_mAP', 'Regex': 'running mAP ([-+]?[0-9]*[.]?[0-9]+([eE][-+]?[0-9]+)?)'}]\n",
    "\n",
    "instance_type = \"ml.p3.2xlarge\""
   ]
  },
  {
   "cell_type": "code",
   "execution_count": null,
   "metadata": {},
   "outputs": [],
   "source": [
    "instance_type = \"ml.p3.2xlarge\"\n",
    "estimator = MXNet(entry_point=\"train_ssd.py\",\n",
    "                  role=role,\n",
    "                  train_instance_type=instance_type,\n",
    "                  train_instance_count=1,\n",
    "                  output_path=s3_output_path,\n",
    "                  framework_version=\"1.4.1\",\n",
    "                  py_version='py3',\n",
    "                  base_job_name=job_name_prefix,\n",
    "                  hyperparameters=static_hyperparameters\n",
    "                 )"
   ]
  },
  {
   "cell_type": "code",
   "execution_count": null,
   "metadata": {},
   "outputs": [],
   "source": [
    "from sagemaker.tuner import IntegerParameter, CategoricalParameter, ContinuousParameter, HyperparameterTuner\n",
    "\n",
    "# The hyperparameters we're going to tune\n",
    "hyperparameter_ranges = {\n",
    "    'lr': ContinuousParameter(0.0001, 0.002), # learning rate, how much should the model learn from the current iteration ( < 0.01 )\n",
    "    'wd': ContinuousParameter(0.00001, 0.00005), # Weight decay: Regularization to force small weights ( < 0.001 )\n",
    "#     'model': CategoricalParameter([\"ssd_512_mobilenet1.0_voc\", \"ssd_512_resnet50_v1_voc\"]), # ssd_512_resnet50_v1_voc is causing cudaMalloc failed: out of memory, stick to mobilenet1.0 for now till figure out the cause\n",
    "}"
   ]
  },
  {
   "cell_type": "code",
   "execution_count": null,
   "metadata": {},
   "outputs": [],
   "source": [
    "max_jobs = 4\n",
    "max_parallel_jobs = 2 # the account limits for the instance type"
   ]
  },
  {
   "cell_type": "code",
   "execution_count": null,
   "metadata": {},
   "outputs": [],
   "source": [
    "tuner = HyperparameterTuner(estimator,\n",
    "                            objective_metric_name='validation_mAP',\n",
    "                            objective_type='Maximize',\n",
    "                            hyperparameter_ranges=hyperparameter_ranges,\n",
    "                            metric_definitions=metric_definitions,\n",
    "                            max_jobs=max_jobs,\n",
    "                            max_parallel_jobs=max_parallel_jobs,\n",
    "                            base_tuning_job_name=job_name_prefix\n",
    "                           )\n",
    "tuner.fit({\"train\":training_images})"
   ]
  },
  {
   "cell_type": "code",
   "execution_count": null,
   "metadata": {},
   "outputs": [],
   "source": [
    "job_name = tuner.latest_tuning_job.job_name\n",
    "print(\"Tuning job: %s\" % job_name)"
   ]
  },
  {
   "cell_type": "code",
   "execution_count": null,
   "metadata": {},
   "outputs": [],
   "source": [
    "print(\"You can monitor the progress of your jobs here: https://console.aws.amazon.com/sagemaker/home?region={}#/hyper-tuning-jobs/{}\".format(session._region_name,job_name))"
   ]
  },
  {
   "cell_type": "code",
   "execution_count": null,
   "metadata": {},
   "outputs": [],
   "source": [
    "session.wait_for_tuning_job(job_name)"
   ]
  },
  {
   "cell_type": "code",
   "execution_count": null,
   "metadata": {},
   "outputs": [],
   "source": [
    "job_name"
   ]
  },
  {
   "cell_type": "markdown",
   "metadata": {},
   "source": [
    "# Compile model from best training job"
   ]
  },
  {
   "cell_type": "code",
   "execution_count": null,
   "metadata": {},
   "outputs": [],
   "source": [
    "best_job = tuner.best_training_job()\n",
    "best_job"
   ]
  },
  {
   "cell_type": "code",
   "execution_count": null,
   "metadata": {},
   "outputs": [],
   "source": [
    "best_job_model_s3_uri = session.describe_training_job(best_job).get(\"ModelArtifacts\").get(\"S3ModelArtifacts\")\n",
    "pasta_model = sagemaker.model.Model(best_job_model_s3_uri, None)\n",
    "compiled_output_path = '{}/{}/output'.format(default_s3_bucket,job_name_prefix)"
   ]
  },
  {
   "cell_type": "code",
   "execution_count": null,
   "metadata": {},
   "outputs": [],
   "source": [
    "compilation_job_name = \"{}-{}\".format(job_name_prefix, datetime.now().strftime(\"%Y%m%d-%H%M%S\"))\n",
    "\n",
    "optimized_ic = pasta_model.compile(\n",
    "    target_instance_family='imx8qm', \n",
    "    input_shape={'data':[1, 3, 224, 224]},  # Batch size 1, 3 channels, 224x224 Images.\n",
    "    output_path=compiled_output_path,\n",
    "    role=role,\n",
    "    job_name=compilation_job_name,\n",
    "    framework='mxnet', framework_version='1.2.1')\n"
   ]
  },
  {
   "cell_type": "code",
   "execution_count": null,
   "metadata": {},
   "outputs": [],
   "source": []
  }
 ],
 "metadata": {
  "kernelspec": {
   "display_name": "conda_mxnet_p36",
   "language": "python",
   "name": "conda_mxnet_p36"
  },
  "language_info": {
   "codemirror_mode": {
    "name": "ipython",
    "version": 3
   },
   "file_extension": ".py",
   "mimetype": "text/x-python",
   "name": "python",
   "nbconvert_exporter": "python",
   "pygments_lexer": "ipython3",
   "version": "3.6.5"
  }
 },
 "nbformat": 4,
 "nbformat_minor": 4
}
